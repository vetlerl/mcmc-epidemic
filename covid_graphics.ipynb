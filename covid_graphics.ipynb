{
 "cells": [
  {
   "cell_type": "markdown",
   "id": "db6824c1-73c0-4ebd-a8b5-a5a8f027e4c6",
   "metadata": {},
   "source": [
    "# Experimental Results on the COVID19 data"
   ]
  },
  {
   "cell_type": "markdown",
   "id": "0b2f2286-31a4-41e5-aee8-be99b90e6948",
   "metadata": {},
   "source": [
    "## Import of the libraries and our package"
   ]
  },
  {
   "cell_type": "code",
   "execution_count": 1,
   "id": "f20120ed-539e-46c0-820f-ecdbeb8c2b4e",
   "metadata": {},
   "outputs": [],
   "source": [
    "import numpy as np\n",
    "import numpy.linalg as npl\n",
    "import numpy.random as npr\n",
    "\n",
    "import scipy as sp\n",
    "import scipy.linalg as spl\n",
    "import scipy.stats as sps\n",
    "import time\n",
    "import pandas as pd\n",
    "\n",
    "import matplotlib.pyplot as plt"
   ]
  },
  {
   "cell_type": "code",
   "execution_count": 2,
   "id": "62f858e1-2777-4a52-9e61-eab058d25f94",
   "metadata": {},
   "outputs": [],
   "source": [
    "%matplotlib inline\n",
    "%reload_ext autoreload\n",
    "%autoreload 2\n",
    "\n",
    "from covid import * #allows us to use our functions directly"
   ]
  },
  {
   "cell_type": "code",
   "execution_count": null,
   "id": "092e368d-8e2d-4aec-b8e7-7d247514f8c1",
   "metadata": {},
   "outputs": [],
   "source": []
  }
 ],
 "metadata": {
  "kernelspec": {
   "display_name": "Python 3 (ipykernel)",
   "language": "python",
   "name": "python3"
  },
  "language_info": {
   "codemirror_mode": {
    "name": "ipython",
    "version": 3
   },
   "file_extension": ".py",
   "mimetype": "text/x-python",
   "name": "python",
   "nbconvert_exporter": "python",
   "pygments_lexer": "ipython3",
   "version": "3.12.7"
  }
 },
 "nbformat": 4,
 "nbformat_minor": 5
}
