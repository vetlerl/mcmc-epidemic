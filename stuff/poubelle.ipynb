{
 "cells": [
  {
   "cell_type": "markdown",
   "id": "ea3ef2c3-aafd-4f8d-8b5f-aac2c7589a7a",
   "metadata": {},
   "source": [
    "## Impact of Lambda\n",
    "In this part of the notebook, we will estimate $\\theta$ tilde under different $\\lambda \\in \\Lambda$. We define a list containing different $\\lambda$ and we will create a DataFrame that computes the relative error for every component of $\\theta$ several times, and we will look at the mean and standard deviation of the relative error for every component."
   ]
  },
  {
   "cell_type": "code",
   "execution_count": null,
   "id": "036a7809-7a82-44e0-9cf3-545a209392b2",
   "metadata": {},
   "outputs": [],
   "source": [
    "Lambdas = 1e-2*[0.1,0.5,1,5,10,50,100,500,1000]\n",
    "#np.arange(0.5,5,0.5)#[0.1,0.5,0.8,1,1.3,1.6,2,4,7,9]\n",
    "nb_sim = 5\n",
    "method = \"source\"\n",
    "n = len(Lambdas)\n",
    "sim_theta_tildes = np.zeros((T,nb_sim,n))\n",
    "Y_simu=Create_DicoY(T,Lambdas,a,b)\n",
    "\n",
    "for k in range(n):\n",
    "    Y = Y_simu[Lambdas[k]]\n",
    "    for j in range(nb_sim):\n",
    "        _, sim_theta_tildes[:,j,k] = MetropolisHastingsFast(T, Lambdas[k], Y,a,b,method=method)\n",
    "        #print(\"working...\")\n",
    "    print(f\"Oooh yeah! Finished {k+1}. iteration\")"
   ]
  },
  {
   "cell_type": "code",
   "execution_count": null,
   "id": "03fe3a85-d006-4a90-8ec2-3b6452465cd0",
   "metadata": {},
   "outputs": [],
   "source": [
    "print(pd.DataFrame(sim_theta_tildes[:,:,-1]))"
   ]
  },
  {
   "cell_type": "markdown",
   "id": "f3e81fb0-0403-4265-98d1-f95008ce4651",
   "metadata": {},
   "source": [
    "The simulated $\\theta$ sometimes takes tiny values close to 0, although the theoretical value is a bigger real number. This means that the relative error can exaggerate the magnitude of the error, since we divide by a small number. Therefore we opt for the following error:\n",
    "$d(x,y) = \\frac{|x-y|}{max(|x|,|y|)}$"
   ]
  },
  {
   "cell_type": "code",
   "execution_count": null,
   "id": "d9ac0533-fcbb-48da-9c00-d03cc05fc329",
   "metadata": {},
   "outputs": [],
   "source": [
    "def dist(x,y):\n",
    "    return np.abs(x-y)/np.maximum(np.abs(x),np.abs(y))"
   ]
  },
  {
   "cell_type": "code",
   "execution_count": null,
   "id": "5f0c1237-3a40-400a-9895-2edaa1e5ce0c",
   "metadata": {},
   "outputs": [],
   "source": [
    "errors = np.zeros(np.shape(sim_theta_tildes))\n",
    "for k in range(n):\n",
    "    Y = Y_simu[Lambdas[k]]\n",
    "    _, theoretical_means = ComputeMeans(T, Lambdas[k], Y, a, b)\n",
    "    errors[:,:,k] = dist(sim_theta_tildes[:,:,k],theoretical_means[:,np.newaxis] @ np.ones((1,nb_sim)))\n",
    "    #errors[:,:,k] = abs(sim_theta_tildes[:,:,k] - theoretical_means[:,np.newaxis] @ np.ones((1,10))) / np.max(np.abs(sim_theta_tildes[:,:,k])"
   ]
  },
  {
   "cell_type": "code",
   "execution_count": null,
   "id": "c87c6051-308c-449a-9346-ade9aa2af4d2",
   "metadata": {},
   "outputs": [],
   "source": [
    "print(np.shape(errors))\n",
    "data = np.zeros((T,2*n))\n",
    "for i in range(n//2+1):\n",
    "    data[:,2*i] = np.mean(errors[:,:,i],axis=1)\n",
    "    data[:,2*i+1]=np.std(errors[:,:,i],axis=1)\n",
    "assert np.shape(data)==(T,2*n)\n",
    "df = pd.DataFrame(data)\n",
    "\n",
    "df.columns = pd.MultiIndex.from_product([Lambdas,[\"mean\",\"std\"]],names=[\"lambdas\",\"measure\"])"
   ]
  },
  {
   "cell_type": "code",
   "execution_count": null,
   "id": "6e8878dc-d3f6-4ac3-8de7-9be86c7fc1d6",
   "metadata": {},
   "outputs": [],
   "source": [
    "df.head()"
   ]
  },
  {
   "cell_type": "code",
   "execution_count": null,
   "id": "99d794e6-2777-4888-b3df-a1fb4a56e03b",
   "metadata": {},
   "outputs": [],
   "source": [
    "df_mean = df.mean()"
   ]
  },
  {
   "cell_type": "code",
   "execution_count": null,
   "id": "d5e50eaf-6115-4796-9ca2-2d3c4c222081",
   "metadata": {},
   "outputs": [],
   "source": [
    "niter = 10**5\n",
    "fig,ax = plt.subplots(1,1)\n",
    "df_mean.xs(\"mean\", level=1, axis=0).plot(label=\"emp. mean\")\n",
    "df_mean.xs(\"std\",  level=1, axis=0).plot(label=\"standard dev.\")\n",
    "fig.suptitle(f\"Error as function of $\\lambda$, @{niter:} iterations, using method: {method}\")\n",
    "ax.set_ylabel(\"distance\")\n",
    "ax.legend()\n",
    "plt.grid()"
   ]
  },
  {
   "cell_type": "code",
   "execution_count": null,
   "id": "37338111-1bce-457e-883d-2ae5064b11d3",
   "metadata": {},
   "outputs": [],
   "source": [
    "T = 30\n",
    "Lambdas = [1] + [5*i for i in range(1,5)] + [50,100]\n",
    "n_simu = len(Lambdas)\n",
    "theoretical_means = np.zeros((n_simu, T))\n",
    "errors_source = np.zeros(n_simu)\n",
    "errors_image = np.zeros(n_simu)\n",
    "errors_subdiff_source = np.zeros(n_simu)\n",
    "errors_subdiff_image = np.zeros(n_simu)\n",
    "errors_prox_image = np.zeros(n_simu)\n",
    "\n",
    "for i in range(n_simu):\n",
    "    #print(ComputeMeans(T, 1, Y_simu[Lambdas[i]])[0])\n",
    "    theoretical_means[i,:] = ComputeMeans(T, 1, Y_simu[Lambdas[i]], a, b)[0]\n",
    "    #print(\"done1\")\n",
    "    errors_source[i] = sum(abs(MetropolisHastingsFast(T, 1, Y_simu[Lambdas[i]], a, b, method=\"source\")[0]-theoretical_means[i,:]))\n",
    "    #print(errors_source[i])\n",
    "    errors_image[i] = sum(abs(MetropolisHastingsFast(T, 1, Y_simu[Lambdas[i]], a, b, method=\"image\")[0]-theoretical_means[i,:]))\n",
    "    #print(errors_image[i])\n",
    "    errors_subdiff_source[i] = sum(abs(MetropolisHastingsFast(T, 1, Y_simu[Lambdas[i]], a, b, method=\"subdiff_source\")[0]-theoretical_means[i,:]))\n",
    "    #print(errors_subdiff_source[i])\n",
    "    errors_subdiff_image[i] = sum(abs(MetropolisHastingsFast(T, 1, Y_simu[Lambdas[i]], a, b, method=\"subdiff_image\")[0]-theoretical_means[i,:]))\n",
    "    #print(errors_subdiff_image[i])\n",
    "    errors_prox_image[i] = sum(abs(MH_Prox_Image(T, 1, Y_simu[Lambdas[i]], a, b)[0][-1]-theoretical_means[i,:]))\n",
    "    print(\"---Done---\")\n",
    "\n",
    "plt.figure()\n",
    "plt.plot(errors_source, color = \"blue\")\n",
    "plt.plot(errors_image, color = \"green\")\n",
    "plt.plot(errors_subdiff_source, color = \"red\")\n",
    "plt.plot(errors_subdiff_image, color = \"black\")\n",
    "plt.plot(errors_prox_image, color = \"yellow\")\n",
    "plt.show()"
   ]
  }
 ],
 "metadata": {
  "kernelspec": {
   "display_name": "Python 3 (ipykernel)",
   "language": "python",
   "name": "python3"
  },
  "language_info": {
   "codemirror_mode": {
    "name": "ipython",
    "version": 3
   },
   "file_extension": ".py",
   "mimetype": "text/x-python",
   "name": "python",
   "nbconvert_exporter": "python",
   "pygments_lexer": "ipython3",
   "version": "3.9.13"
  }
 },
 "nbformat": 4,
 "nbformat_minor": 5
}
